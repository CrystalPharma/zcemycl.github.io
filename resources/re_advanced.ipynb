{
 "cells": [
  {
   "cell_type": "code",
   "execution_count": 1,
   "metadata": {},
   "outputs": [],
   "source": [
    "import re"
   ]
  },
  {
   "cell_type": "code",
   "execution_count": 2,
   "metadata": {},
   "outputs": [
    {
     "name": "stdout",
     "output_type": "stream",
     "text": [
      "[('abcabc', 'def')]\n"
     ]
    }
   ],
   "source": [
    "# catching group\n",
    "expr_1 = r'([abc]+)([def]+)'\n",
    "line = 'abcabcdefabc'\n",
    "print(re.findall(expr_1,line))"
   ]
  },
  {
   "cell_type": "code",
   "execution_count": 3,
   "metadata": {},
   "outputs": [
    {
     "name": "stdout",
     "output_type": "stream",
     "text": [
      "[('abcabcdefabc', '*,.')]\n"
     ]
    }
   ],
   "source": [
    "# character (a-zA-Z and _) and non-char\n",
    "expr_1 = r'(\\w+)(\\W+)'\n",
    "line = 'abcabcdefabc*,.zyw'\n",
    "print(re.findall(expr_1,line))"
   ]
  },
  {
   "cell_type": "code",
   "execution_count": 4,
   "metadata": {},
   "outputs": [
    {
     "name": "stdout",
     "output_type": "stream",
     "text": [
      "['Leo Leung']\n",
      "['LEO LEUNG']\n"
     ]
    }
   ],
   "source": [
    "# ignore casing\n",
    "expr_1 = r'(?i)leo leung'\n",
    "line = 'Leo Leung'\n",
    "print(re.findall(expr_1,line))\n",
    "print(re.findall(expr_1,'LEO LEUNG'))"
   ]
  },
  {
   "cell_type": "code",
   "execution_count": 5,
   "metadata": {},
   "outputs": [
    {
     "name": "stdout",
     "output_type": "stream",
     "text": [
      "['Leo ']\n",
      "['ok ']\n"
     ]
    }
   ],
   "source": [
    "# Lookahead assertion\n",
    "expr_1 = r'(?i).* (?=leung)'\n",
    "line = 'Leo Leung'\n",
    "print(re.findall(expr_1,line))\n",
    "print(re.findall(expr_1,'ok LEUNG'))"
   ]
  },
  {
   "cell_type": "code",
   "execution_count": 6,
   "metadata": {},
   "outputs": [
    {
     "name": "stdout",
     "output_type": "stream",
     "text": [
      "[]\n",
      "[]\n"
     ]
    }
   ],
   "source": [
    "# Lookahead assertion WRONG\n",
    "expr_1 = r'(?i).* ?=leung'\n",
    "line = 'Leo Leung'\n",
    "print(re.findall(expr_1,line))\n",
    "print(re.findall(expr_1,'ok LEUNG'))"
   ]
  },
  {
   "cell_type": "code",
   "execution_count": 7,
   "metadata": {},
   "outputs": [
    {
     "name": "stdout",
     "output_type": "stream",
     "text": [
      "['Leo Leung ok ']\n",
      "[]\n"
     ]
    }
   ],
   "source": [
    "# Lookahead assertion\n",
    "expr_1 = r'(?i).* (?!leung)'\n",
    "line = 'Leo Leung ok sam'\n",
    "print(re.findall(expr_1,line))\n",
    "print(re.findall(expr_1,'ok LEUNG'))"
   ]
  },
  {
   "cell_type": "code",
   "execution_count": 8,
   "metadata": {},
   "outputs": [
    {
     "name": "stdout",
     "output_type": "stream",
     "text": [
      "[' Leung']\n",
      "[]\n"
     ]
    }
   ],
   "source": [
    "# lookbehind assertion\n",
    "expr_1 = r'(?i)(?<=leo) .*'\n",
    "line = 'Leo Leung'\n",
    "print(re.findall(expr_1,line))\n",
    "print(re.findall(expr_1,'ok LEUNG'))"
   ]
  },
  {
   "cell_type": "code",
   "execution_count": 9,
   "metadata": {},
   "outputs": [
    {
     "name": "stdout",
     "output_type": "stream",
     "text": [
      "['Leo Leung']\n",
      "['ok LEUNG']\n"
     ]
    }
   ],
   "source": [
    "# lookbehind assertion\n",
    "expr_1 = r'(?i).* (?:leung)'\n",
    "line = 'Leo Leung'\n",
    "print(re.findall(expr_1,line))\n",
    "print(re.findall(expr_1,'ok LEUNG'))"
   ]
  },
  {
   "cell_type": "code",
   "execution_count": 10,
   "metadata": {},
   "outputs": [
    {
     "name": "stdout",
     "output_type": "stream",
     "text": [
      "['Leo Leung']\n",
      "[]\n"
     ]
    }
   ],
   "source": [
    "expr_1 = r'(?:Leo) .*'\n",
    "line = 'I am Leo Leung'\n",
    "print(re.findall(expr_1,line))\n",
    "print(re.findall(expr_1,'ok LEUNG'))"
   ]
  },
  {
   "cell_type": "code",
   "execution_count": 11,
   "metadata": {},
   "outputs": [
    {
     "name": "stdout",
     "output_type": "stream",
     "text": [
      "['Leo Leung']\n",
      "[]\n"
     ]
    }
   ],
   "source": [
    "expr_1 = r'(?i:leo) .*'\n",
    "line = 'I am Leo Leung'\n",
    "print(re.findall(expr_1,line))\n",
    "print(re.findall(expr_1,'ok LEUNG'))"
   ]
  },
  {
   "cell_type": "code",
   "execution_count": 17,
   "metadata": {},
   "outputs": [
    {
     "name": "stdout",
     "output_type": "stream",
     "text": [
      "['Leo Leung Patrick abc, 12, Leo aaa patrick abc']\n",
      "[]\n"
     ]
    }
   ],
   "source": [
    "expr_1 = r'(?i:leo) .* (?i:patrick) abc'\n",
    "line = 'I am Leo Leung Patrick abc, 12, Leo aaa patrick abc'\n",
    "print(re.findall(expr_1,line))\n",
    "print(re.findall(expr_1,'ok LEUNG'))"
   ]
  },
  {
   "cell_type": "code",
   "execution_count": 20,
   "metadata": {
    "scrolled": true
   },
   "outputs": [
    {
     "name": "stdout",
     "output_type": "stream",
     "text": [
      "['Leo Leung Patrick abc, 12, Leo aaa patrick abc']\n",
      "[]\n"
     ]
    }
   ],
   "source": [
    "expr_1 = r'(?i)(?:leo) .* (?:patrick) abc'\n",
    "line = 'I am Leo Leung Patrick abc, 12, Leo aaa patrick abc'\n",
    "print(re.findall(expr_1,line))\n",
    "print(re.findall(expr_1,'ok LEUNG'))"
   ]
  },
  {
   "cell_type": "code",
   "execution_count": 23,
   "metadata": {},
   "outputs": [
    {
     "name": "stdout",
     "output_type": "stream",
     "text": [
      "['Leo Leung Patrick abc', 'Leo aaa patrick abc']\n",
      "[]\n"
     ]
    }
   ],
   "source": [
    "expr_1 = r'(?i)leo .{1,10} patrick abc'\n",
    "line = 'I am Leo Leung Patrick abc, 12, Leo aaa patrick abc'\n",
    "print(re.findall(expr_1,line))\n",
    "print(re.findall(expr_1,'ok LEUNG'))"
   ]
  },
  {
   "cell_type": "code",
   "execution_count": 19,
   "metadata": {},
   "outputs": [
    {
     "name": "stdout",
     "output_type": "stream",
     "text": [
      "[' Leung Patrick abc, 12, Leo aaa ']\n",
      "[]\n"
     ]
    }
   ],
   "source": [
    "expr_1 = r'(?i)(?<=leo) .* (?=patrick)'\n",
    "line = 'I am Leo Leung Patrick abc, 12, Leo aaa patrick abc'\n",
    "print(re.findall(expr_1,line))\n",
    "print(re.findall(expr_1,'ok LEUNG'))"
   ]
  },
  {
   "cell_type": "code",
   "execution_count": null,
   "metadata": {},
   "outputs": [],
   "source": []
  }
 ],
 "metadata": {
  "kernelspec": {
   "display_name": "Python 3",
   "language": "python",
   "name": "python3"
  },
  "language_info": {
   "codemirror_mode": {
    "name": "ipython",
    "version": 3
   },
   "file_extension": ".py",
   "mimetype": "text/x-python",
   "name": "python",
   "nbconvert_exporter": "python",
   "pygments_lexer": "ipython3",
   "version": "3.7.4"
  }
 },
 "nbformat": 4,
 "nbformat_minor": 2
}
