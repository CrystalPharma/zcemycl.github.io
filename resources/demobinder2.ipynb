{
 "cells": [
  {
   "cell_type": "code",
   "execution_count": 1,
   "metadata": {},
   "outputs": [],
   "source": [
    "# General Purpose\n",
    "import numpy as np\n",
    "from matplotlib import pyplot as plt\n",
    "from scipy.integrate import odeint\n",
    "\n",
    "# Jupyter Specifics\n",
    "from IPython.display import HTML\n",
    "from ipywidgets.widgets import interact, IntSlider, FloatSlider, Layout\n",
    "\n",
    "%matplotlib inline\n",
    "\n",
    "style = {'description_width': '150px'}\n",
    "slider_layout = Layout(width='99%')"
   ]
  },
  {
   "cell_type": "code",
   "execution_count": 2,
   "metadata": {},
   "outputs": [
    {
     "data": {
      "application/vnd.jupyter.widget-view+json": {
       "model_id": "a19354949a0b4e448f34730795cf1673",
       "version_major": 2,
       "version_minor": 0
      },
      "text/plain": [
       "interactive(children=(IntSlider(value=15000, description='Initial Salary', layout=Layout(width='99%'), max=250…"
      ]
     },
     "metadata": {},
     "output_type": "display_data"
    }
   ],
   "source": [
    "\n",
    "\n",
    "def main(initial_salary, savings_ration, extraordinary_expenses, fixed_costs, days):\n",
    "    saving_limit = savings_ration * initial_salary\n",
    "    \n",
    "    def function(capital, time):\n",
    "        if capital <= saving_limit:\n",
    "            out_rate = 0\n",
    "        else:\n",
    "            out_rate = extraordinary_expenses * (capital - saving_limit)\n",
    "        return -fixed_costs - out_rate\n",
    "    \n",
    "    time = np.linspace(0, days, days*10)\n",
    "    \n",
    "    solution = odeint(function, initial_salary, time)\n",
    "    \n",
    "    #Graphic details\n",
    "    fig, ax = plt.subplots(figsize=(15, 10))    \n",
    "    \n",
    "    ax.plot((0, days), (saving_limit, saving_limit), label='Saving Limit')\n",
    "    ax.plot(time, solution, label='Capital(t)')\n",
    "    \n",
    "    if days <= 60:\n",
    "        step = 1\n",
    "        rotation = \"horizontal\"\n",
    "    elif days <= 300:\n",
    "        step = 5\n",
    "        rotation = \"vertical\"\n",
    "    else:\n",
    "        step = 10\n",
    "        rotation = \"vertical\"\n",
    "    \n",
    "    ax.set_xticklabels(np.arange(0, days + 1, step, dtype=np.int), rotation=rotation)\n",
    "    ax.set_xticks(np.arange(0, days + 1, step))\n",
    "    \n",
    "    ax.set_yticks(np.arange(0, initial_salary * 1.1, initial_salary / 20))\n",
    "    \n",
    "    ax.set_xlim([0, days])\n",
    "    ax.set_ylim([0, initial_salary * 1.1])\n",
    "    ax.set_xlabel('Days')\n",
    "    ax.set_ylabel('Capital $')\n",
    "    ax.legend(loc='best')\n",
    "    ax.grid()\n",
    "    \n",
    "    plt.show()\n",
    "\n",
    "interact(main, initial_salary=IntSlider(min=0, max=25000, step=500, value=15000, description='Initial Salary', style=style, layout=slider_layout),\n",
    "               savings_ration=FloatSlider(min=0, max=1, step=0.01, value=0.2, description='Savings Ratio', style=style, layout=slider_layout),\n",
    "               extraordinary_expenses=FloatSlider(min=0, max=1, step=0.005, description='Extraordinary Expenses', style=style, value=0.3, layout=slider_layout),\n",
    "               fixed_costs=IntSlider(min=1, max=1000, step=1, value=100, description='Fixed Costs', style=style, layout=slider_layout),\n",
    "               days=IntSlider(min=1, max=600, step=5, value=30, description='Total Number of Days', style=style, layout=slider_layout)\n",
    "        );\n",
    "\n"
   ]
  },
  {
   "cell_type": "code",
   "execution_count": null,
   "metadata": {},
   "outputs": [],
   "source": []
  }
 ],
 "metadata": {
  "kernelspec": {
   "display_name": "Python 3",
   "language": "python",
   "name": "python3"
  },
  "language_info": {
   "codemirror_mode": {
    "name": "ipython",
    "version": 3
   },
   "file_extension": ".py",
   "mimetype": "text/x-python",
   "name": "python",
   "nbconvert_exporter": "python",
   "pygments_lexer": "ipython3",
   "version": "3.7.4"
  }
 },
 "nbformat": 4,
 "nbformat_minor": 2
}
