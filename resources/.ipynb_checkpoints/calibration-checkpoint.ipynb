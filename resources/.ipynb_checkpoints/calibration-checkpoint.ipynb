{
 "cells": [
  {
   "cell_type": "code",
   "execution_count": 1,
   "metadata": {},
   "outputs": [],
   "source": [
    "import numpy as np\n",
    "import math"
   ]
  },
  {
   "cell_type": "code",
   "execution_count": 2,
   "metadata": {},
   "outputs": [],
   "source": [
    "from numpy import matmul as mm\n",
    "from numpy.linalg import inv as inv"
   ]
  },
  {
   "cell_type": "markdown",
   "metadata": {},
   "source": [
    "\\begin{align*}\n",
    "\\text{roll: }R_x(\\phi) &= \\begin{pmatrix}1&0&0\\\\0& cos\\phi & -sin\\phi \\\\0&sin\\phi&cos\\phi\\end{pmatrix} \\quad \\text{pitch: }R_y(\\theta) = \\begin{pmatrix}cos\\theta &0 & sin\\theta\\\\0&1&0 \\\\-sin\\theta&0&cos\\theta\\end{pmatrix} \\\\\n",
    "&\\text{yaw: }R_z(\\psi) = \\begin{pmatrix}cos\\psi & -sin\\psi &0 \\\\sin\\psi&cos\\psi&0\\\\0&0&1\\end{pmatrix}\n",
    "\\end{align*}"
   ]
  },
  {
   "cell_type": "code",
   "execution_count": 3,
   "metadata": {},
   "outputs": [],
   "source": [
    "def Rx(angle): # degree\n",
    "    angle = angle/180*np.pi\n",
    "    return np.array([[1,0,0],\n",
    "                     [0,np.cos(angle),-np.sin(angle)],\n",
    "                     [0,np.sin(angle),np.cos(angle)]])"
   ]
  },
  {
   "cell_type": "code",
   "execution_count": 4,
   "metadata": {},
   "outputs": [
    {
     "data": {
      "text/plain": [
       "array([[ 1.0000000e+00,  0.0000000e+00,  0.0000000e+00],\n",
       "       [ 0.0000000e+00, -1.0000000e+00, -1.2246468e-16],\n",
       "       [ 0.0000000e+00,  1.2246468e-16, -1.0000000e+00]])"
      ]
     },
     "execution_count": 4,
     "metadata": {},
     "output_type": "execute_result"
    }
   ],
   "source": [
    "Rx(180)"
   ]
  },
  {
   "cell_type": "code",
   "execution_count": 5,
   "metadata": {},
   "outputs": [
    {
     "name": "stdout",
     "output_type": "stream",
     "text": [
      "[[-1.0000000e+00  0.0000000e+00  1.2246468e-16]\n",
      " [ 0.0000000e+00  1.0000000e+00  0.0000000e+00]\n",
      " [-1.2246468e-16  0.0000000e+00 -1.0000000e+00]]\n",
      "[[-1.0000000e+00 -1.2246468e-16  0.0000000e+00]\n",
      " [ 1.2246468e-16 -1.0000000e+00  0.0000000e+00]\n",
      " [ 0.0000000e+00  0.0000000e+00  1.0000000e+00]]\n"
     ]
    }
   ],
   "source": [
    "def Ry(angle):\n",
    "    angle = angle/180*np.pi\n",
    "    return np.array([[np.cos(angle),0,np.sin(angle)],\n",
    "                     [0,1,0],\n",
    "                     [-np.sin(angle),0,np.cos(angle)]])\n",
    "def Rz(angle):\n",
    "    angle = angle/180*np.pi\n",
    "    return np.array([[np.cos(angle),-np.sin(angle),0],\n",
    "                     [np.sin(angle),np.cos(angle),0],\n",
    "                     [0,0,1]])\n",
    "print(Ry(180))\n",
    "print(Rz(180))"
   ]
  },
  {
   "cell_type": "code",
   "execution_count": 6,
   "metadata": {},
   "outputs": [
    {
     "name": "stdout",
     "output_type": "stream",
     "text": [
      "[[1. 0. 0.]\n",
      " [0. 1. 0.]\n",
      " [0. 0. 1.]]\n"
     ]
    }
   ],
   "source": [
    "def R(roll,pitch,yaw):\n",
    "    return mm(mm(Rz(yaw),Ry(pitch)),Rx(roll))\n",
    "\n",
    "print(R(0,0,0))"
   ]
  },
  {
   "cell_type": "code",
   "execution_count": 7,
   "metadata": {},
   "outputs": [],
   "source": [
    "def T(tx,ty,tz):\n",
    "    return np.array([[tx],[ty],[tz]])"
   ]
  },
  {
   "cell_type": "code",
   "execution_count": 8,
   "metadata": {},
   "outputs": [
    {
     "name": "stdout",
     "output_type": "stream",
     "text": [
      "[[2]\n",
      " [0]\n",
      " [1]]\n"
     ]
    }
   ],
   "source": [
    "print(T(2,0,1))"
   ]
  },
  {
   "cell_type": "markdown",
   "metadata": {},
   "source": [
    "### Rigid body transformation"
   ]
  },
  {
   "cell_type": "code",
   "execution_count": 9,
   "metadata": {},
   "outputs": [],
   "source": [
    "def Pr(roll,pitch,yaw,tx,ty,tz):\n",
    "    Pr_ = np.zeros((3,4))\n",
    "    Pr_[:3,:3] = R(roll,pitch,yaw)\n",
    "    Pr_[:,3:] = T(tx,ty,tz)\n",
    "    print(Pr_)\n",
    "    return Pr_"
   ]
  },
  {
   "cell_type": "code",
   "execution_count": 10,
   "metadata": {
    "scrolled": true
   },
   "outputs": [
    {
     "name": "stdout",
     "output_type": "stream",
     "text": [
      "[[1. 0. 0. 0.]\n",
      " [0. 1. 0. 0.]\n",
      " [0. 0. 1. 0.]]\n",
      "[[1. 0. 0. 0.]\n",
      " [0. 1. 0. 0.]\n",
      " [0. 0. 1. 0.]]\n"
     ]
    }
   ],
   "source": [
    "P = Pr(0,0,0,0,0,0)\n",
    "print(P)"
   ]
  },
  {
   "cell_type": "markdown",
   "metadata": {},
   "source": [
    "### Perspective projection"
   ]
  },
  {
   "cell_type": "code",
   "execution_count": 11,
   "metadata": {
    "scrolled": true
   },
   "outputs": [
    {
     "name": "stdout",
     "output_type": "stream",
     "text": [
      "[[0.1 0.  0. ]\n",
      " [0.  0.1 0. ]\n",
      " [0.  0.  1. ]]\n"
     ]
    }
   ],
   "source": [
    "def Pp(f):\n",
    "    return np.array([[f,0,0],[0,f,0],[0,0,1]])\n",
    "print(Pp(.1))"
   ]
  },
  {
   "cell_type": "markdown",
   "metadata": {},
   "source": [
    "### CCD Imaging"
   ]
  },
  {
   "cell_type": "code",
   "execution_count": 12,
   "metadata": {},
   "outputs": [],
   "source": [
    "def Pc(ku,kv,u0,v0):\n",
    "    return np.array([[ku,0,u0],[0,kv,v0],[0,0,1]])"
   ]
  },
  {
   "cell_type": "code",
   "execution_count": 13,
   "metadata": {},
   "outputs": [
    {
     "name": "stdout",
     "output_type": "stream",
     "text": [
      "[[5.  0.  0.1]\n",
      " [0.  2.  0.2]\n",
      " [0.  0.  1. ]]\n"
     ]
    }
   ],
   "source": [
    "print(Pc(5,2,0.1,0.2))"
   ]
  },
  {
   "cell_type": "code",
   "execution_count": 14,
   "metadata": {},
   "outputs": [
    {
     "name": "stdout",
     "output_type": "stream",
     "text": [
      "0\n"
     ]
    }
   ],
   "source": [
    "dct = {'roll':0,'pitch':0,'yaw':0,\n",
    "       'tx':2,'ty':1,'tz':0,\n",
    "       'f':0.1,'ku':5,'kv':2,'u0':0.1,'v0':0.2}\n",
    "print(dct['roll'])"
   ]
  },
  {
   "cell_type": "code",
   "execution_count": 15,
   "metadata": {},
   "outputs": [],
   "source": [
    "def P(dct):\n",
    "    Pr_ = Pr(dct['roll'],dct['pitch'],\n",
    "            dct['yaw'],dct['tx'],dct['ty'],dct['tz'])\n",
    "    Pp_ = Pp(dct['f'])\n",
    "    Pc_ = Pc(dct['ku'],dct['kv'],dct['u0'],dct['v0'])\n",
    "    return mm(Pc_,Pp_),mm(mm(Pc_,Pp_),Pr_)"
   ]
  },
  {
   "cell_type": "code",
   "execution_count": 16,
   "metadata": {},
   "outputs": [
    {
     "name": "stdout",
     "output_type": "stream",
     "text": [
      "[[1. 0. 0. 2.]\n",
      " [0. 1. 0. 1.]\n",
      " [0. 0. 1. 0.]]\n",
      "[[0.5 0.  0.1 1. ]\n",
      " [0.  0.2 0.2 0.2]\n",
      " [0.  0.  1.  0. ]]\n",
      "[[0.5 0.  0.1]\n",
      " [0.  0.2 0.2]\n",
      " [0.  0.  1. ]]\n"
     ]
    }
   ],
   "source": [
    "M,P_ = P(dct)\n",
    "print(P_)\n",
    "print(M)"
   ]
  },
  {
   "cell_type": "code",
   "execution_count": null,
   "metadata": {},
   "outputs": [],
   "source": []
  },
  {
   "cell_type": "markdown",
   "metadata": {},
   "source": [
    "### Decomposition"
   ]
  },
  {
   "cell_type": "code",
   "execution_count": 17,
   "metadata": {},
   "outputs": [],
   "source": [
    "def correctK(matrix):\n",
    "    Knew = matrix.copy()\n",
    "    for i in range(Knew.shape[0]):\n",
    "        for j in range(Knew.shape[1]):\n",
    "            if str(Knew[i,j]).find('-') != -1:\n",
    "                Knew[i,j] = abs(Knew[i,j])\n",
    "            if Knew[i,j] < 1e-10 and Knew[i,j] > -1e-10:\n",
    "                Knew[i,j] = 0\n",
    "    return Knew"
   ]
  },
  {
   "cell_type": "code",
   "execution_count": 18,
   "metadata": {},
   "outputs": [],
   "source": [
    "def correctR(matrix):\n",
    "    Rnew = matrix.copy()\n",
    "    for i in range(Rnew.shape[0]):\n",
    "        for j in range(Rnew.shape[1]):\n",
    "            if Rnew[i,j]<1e-10 and Rnew[i,j]>-1e-10:\n",
    "                Rnew[i,j]=0\n",
    "    return Rnew"
   ]
  },
  {
   "cell_type": "code",
   "execution_count": 19,
   "metadata": {},
   "outputs": [],
   "source": [
    "def P2KRT(matrix):\n",
    "    left = matrix[:,:3]\n",
    "    right = matrix[:,3:]\n",
    "    q,r = np.linalg.qr(inv(left))\n",
    "    k = correctK(inv(r))\n",
    "    rot = np.linalg.solve(k,left)\n",
    "    rot = correctR(rot)\n",
    "    trl = np.linalg.solve(k,right)\n",
    "    return rot,k,trl"
   ]
  },
  {
   "cell_type": "code",
   "execution_count": 20,
   "metadata": {},
   "outputs": [],
   "source": [
    "def checkProcessP2KRT(dct):\n",
    "    M,P_ = P(dct)\n",
    "    print('original K')\n",
    "    print(M)\n",
    "    rot,k,trl = P2KRT(P_)\n",
    "    print('new K')\n",
    "    print(k)\n",
    "    print('rot')\n",
    "    print(rot)\n",
    "    print('trl')\n",
    "    print(trl)"
   ]
  },
  {
   "cell_type": "code",
   "execution_count": 21,
   "metadata": {},
   "outputs": [
    {
     "name": "stdout",
     "output_type": "stream",
     "text": [
      "[[ 0.5       -0.8660254  0.         2.       ]\n",
      " [ 0.8660254  0.5        0.         1.       ]\n",
      " [ 0.         0.         1.         0.       ]]\n",
      "original K\n",
      "[[0.5 0.  0.1]\n",
      " [0.  0.2 0.2]\n",
      " [0.  0.  1. ]]\n",
      "new K\n",
      "[[0.5 0.  0.1]\n",
      " [0.  0.2 0.2]\n",
      " [0.  0.  1. ]]\n",
      "rot\n",
      "[[ 0.5       -0.8660254  0.       ]\n",
      " [ 0.8660254  0.5        0.       ]\n",
      " [ 0.         0.         1.       ]]\n",
      "trl\n",
      "[[2.]\n",
      " [1.]\n",
      " [0.]]\n"
     ]
    }
   ],
   "source": [
    "dct = {'roll':0,'pitch':0,'yaw':60,\n",
    "       'tx':2,'ty':1,'tz':0,\n",
    "       'f':0.1,'ku':5,'kv':2,'u0':0.1,'v0':0.2}\n",
    "checkProcessP2KRT(dct)"
   ]
  },
  {
   "cell_type": "code",
   "execution_count": 22,
   "metadata": {},
   "outputs": [
    {
     "name": "stdout",
     "output_type": "stream",
     "text": [
      "[[ 0.25      -0.8660254  0.4330127  2.       ]\n",
      " [ 0.4330127  0.5        0.75       1.       ]\n",
      " [-0.8660254  0.         0.5        0.       ]]\n",
      "original K\n",
      "[[0.5 0.  0.1]\n",
      " [0.  0.2 0.2]\n",
      " [0.  0.  1. ]]\n",
      "new K\n",
      "[[0.5 0.  0.1]\n",
      " [0.  0.2 0.2]\n",
      " [0.  0.  1. ]]\n",
      "rot\n",
      "[[ 0.25      -0.8660254  0.4330127]\n",
      " [ 0.4330127  0.5        0.75     ]\n",
      " [-0.8660254  0.         0.5      ]]\n",
      "trl\n",
      "[[2.]\n",
      " [1.]\n",
      " [0.]]\n"
     ]
    }
   ],
   "source": [
    "dct = {'roll':0,'pitch':60,'yaw':60,\n",
    "       'tx':2,'ty':1,'tz':0,\n",
    "       'f':0.1,'ku':5,'kv':2,'u0':0.1,'v0':0.2}\n",
    "checkProcessP2KRT(dct)"
   ]
  },
  {
   "cell_type": "code",
   "execution_count": 23,
   "metadata": {},
   "outputs": [
    {
     "name": "stdout",
     "output_type": "stream",
     "text": [
      "[[ 0.25       -0.0580127   0.96650635  2.        ]\n",
      " [ 0.4330127   0.89951905 -0.0580127   1.        ]\n",
      " [-0.8660254   0.4330127   0.25        0.        ]]\n",
      "original K\n",
      "[[0.5 0.  0.1]\n",
      " [0.  0.2 0.2]\n",
      " [0.  0.  1. ]]\n",
      "new K\n",
      "[[0.5 0.  0.1]\n",
      " [0.  0.2 0.2]\n",
      " [0.  0.  1. ]]\n",
      "rot\n",
      "[[ 0.25       -0.0580127   0.96650635]\n",
      " [ 0.4330127   0.89951905 -0.0580127 ]\n",
      " [-0.8660254   0.4330127   0.25      ]]\n",
      "trl\n",
      "[[2.]\n",
      " [1.]\n",
      " [0.]]\n"
     ]
    }
   ],
   "source": [
    "dct = {'roll':60,'pitch':60,'yaw':60,\n",
    "       'tx':2,'ty':1,'tz':0,\n",
    "       'f':0.1,'ku':5,'kv':2,'u0':0.1,'v0':0.2}\n",
    "checkProcessP2KRT(dct)"
   ]
  },
  {
   "cell_type": "code",
   "execution_count": 24,
   "metadata": {},
   "outputs": [
    {
     "name": "stdout",
     "output_type": "stream",
     "text": [
      "[[-0.5       -0.8660254  0.         2.       ]\n",
      " [ 0.8660254 -0.5        0.         1.       ]\n",
      " [ 0.         0.         1.         0.       ]]\n",
      "original K\n",
      "[[0.5 0.  0.1]\n",
      " [0.  0.2 0.2]\n",
      " [0.  0.  1. ]]\n",
      "new K\n",
      "[[0.5 0.  0.1]\n",
      " [0.  0.2 0.2]\n",
      " [0.  0.  1. ]]\n",
      "rot\n",
      "[[-0.5       -0.8660254  0.       ]\n",
      " [ 0.8660254 -0.5        0.       ]\n",
      " [ 0.         0.         1.       ]]\n",
      "trl\n",
      "[[2.]\n",
      " [1.]\n",
      " [0.]]\n"
     ]
    }
   ],
   "source": [
    "dct = {'roll':0,'pitch':0,'yaw':120,\n",
    "       'tx':2,'ty':1,'tz':0,\n",
    "       'f':0.1,'ku':5,'kv':2,'u0':0.1,'v0':0.2}\n",
    "checkProcessP2KRT(dct)"
   ]
  },
  {
   "cell_type": "code",
   "execution_count": 25,
   "metadata": {},
   "outputs": [
    {
     "name": "stdout",
     "output_type": "stream",
     "text": [
      "[[-5.00000000e-01  8.66025404e-01  1.06057524e-16  2.00000000e+00]\n",
      " [ 8.66025404e-01  5.00000000e-01  6.12323400e-17  1.00000000e+00]\n",
      " [ 0.00000000e+00  1.22464680e-16 -1.00000000e+00  0.00000000e+00]]\n",
      "original K\n",
      "[[0.5 0.  0.1]\n",
      " [0.  0.2 0.2]\n",
      " [0.  0.  1. ]]\n",
      "new K\n",
      "[[0.5 0.  0.1]\n",
      " [0.  0.2 0.2]\n",
      " [0.  0.  1. ]]\n",
      "rot\n",
      "[[-0.5        0.8660254  0.       ]\n",
      " [ 0.8660254  0.5        0.       ]\n",
      " [ 0.         0.        -1.       ]]\n",
      "trl\n",
      "[[2.]\n",
      " [1.]\n",
      " [0.]]\n"
     ]
    }
   ],
   "source": [
    "dct = {'roll':180,'pitch':0,'yaw':120,\n",
    "       'tx':2,'ty':1,'tz':0,\n",
    "       'f':0.1,'ku':5,'kv':2,'u0':0.1,'v0':0.2}\n",
    "checkProcessP2KRT(dct)"
   ]
  },
  {
   "cell_type": "code",
   "execution_count": 26,
   "metadata": {},
   "outputs": [
    {
     "name": "stdout",
     "output_type": "stream",
     "text": [
      "[[ 0.99996192  0.          0.00872654  2.        ]\n",
      " [ 0.          1.          0.          1.        ]\n",
      " [-0.00872654  0.          0.99996192  0.        ]]\n",
      "original K\n",
      "[[0.5 0.  0.1]\n",
      " [0.  0.2 0.2]\n",
      " [0.  0.  1. ]]\n",
      "new K\n",
      "[[0.5 0.  0.1]\n",
      " [0.  0.2 0.2]\n",
      " [0.  0.  1. ]]\n",
      "rot\n",
      "[[ 0.99996192  0.          0.00872654]\n",
      " [ 0.          1.          0.        ]\n",
      " [-0.00872654  0.          0.99996192]]\n",
      "trl\n",
      "[[2.]\n",
      " [1.]\n",
      " [0.]]\n"
     ]
    }
   ],
   "source": [
    "dct = {'roll':0,'pitch':0.5,'yaw':0,\n",
    "       'tx':2,'ty':1,'tz':0,\n",
    "       'f':0.1,'ku':5,'kv':2,'u0':0.1,'v0':0.2}\n",
    "checkProcessP2KRT(dct)"
   ]
  },
  {
   "cell_type": "code",
   "execution_count": 27,
   "metadata": {},
   "outputs": [
    {
     "name": "stdout",
     "output_type": "stream",
     "text": [
      "[[ 0.5        0.         0.8660254  2.       ]\n",
      " [ 0.         1.         0.         1.       ]\n",
      " [-0.8660254  0.         0.5        0.       ]]\n",
      "original K\n",
      "[[0.5 0.  0.1]\n",
      " [0.  0.2 0.2]\n",
      " [0.  0.  1. ]]\n",
      "new K\n",
      "[[0.5 0.  0.1]\n",
      " [0.  0.2 0.2]\n",
      " [0.  0.  1. ]]\n",
      "rot\n",
      "[[ 0.5        0.         0.8660254]\n",
      " [ 0.         1.         0.       ]\n",
      " [-0.8660254  0.         0.5      ]]\n",
      "trl\n",
      "[[2.]\n",
      " [1.]\n",
      " [0.]]\n"
     ]
    }
   ],
   "source": [
    "dct = {'roll':0,'pitch':60,'yaw':0,\n",
    "       'tx':2,'ty':1,'tz':0,\n",
    "       'f':0.1,'ku':5,'kv':2,'u0':0.1,'v0':0.2}\n",
    "checkProcessP2KRT(dct)"
   ]
  },
  {
   "cell_type": "code",
   "execution_count": 28,
   "metadata": {},
   "outputs": [
    {
     "name": "stdout",
     "output_type": "stream",
     "text": [
      "[[ 1.         0.         0.         2.       ]\n",
      " [ 0.         0.5       -0.8660254  1.       ]\n",
      " [ 0.         0.8660254  0.5        0.       ]]\n",
      "original K\n",
      "[[0.5 0.  0.1]\n",
      " [0.  0.2 0.2]\n",
      " [0.  0.  1. ]]\n",
      "new K\n",
      "[[0.5 0.  0.1]\n",
      " [0.  0.2 0.2]\n",
      " [0.  0.  1. ]]\n",
      "rot\n",
      "[[ 1.         0.         0.       ]\n",
      " [ 0.         0.5       -0.8660254]\n",
      " [ 0.         0.8660254  0.5      ]]\n",
      "trl\n",
      "[[2.]\n",
      " [1.]\n",
      " [0.]]\n"
     ]
    }
   ],
   "source": [
    "dct = {'roll':60,'pitch':0,'yaw':0,\n",
    "       'tx':2,'ty':1,'tz':0,\n",
    "       'f':0.1,'ku':5,'kv':2,'u0':0.1,'v0':0.2}\n",
    "checkProcessP2KRT(dct)"
   ]
  },
  {
   "cell_type": "code",
   "execution_count": 29,
   "metadata": {},
   "outputs": [
    {
     "name": "stdout",
     "output_type": "stream",
     "text": [
      "[[ 0.99992385 -0.00865005  0.00880202  2.        ]\n",
      " [ 0.0087262   0.99992451 -0.00865005  1.        ]\n",
      " [-0.00872654  0.0087262   0.99992385  0.        ]]\n",
      "original K\n",
      "[[0.5 0.  0.1]\n",
      " [0.  0.2 0.2]\n",
      " [0.  0.  1. ]]\n",
      "new K\n",
      "[[0.5 0.  0.1]\n",
      " [0.  0.2 0.2]\n",
      " [0.  0.  1. ]]\n",
      "rot\n",
      "[[ 0.99992385 -0.00865005  0.00880202]\n",
      " [ 0.0087262   0.99992451 -0.00865005]\n",
      " [-0.00872654  0.0087262   0.99992385]]\n",
      "trl\n",
      "[[2.]\n",
      " [1.]\n",
      " [0.]]\n"
     ]
    }
   ],
   "source": [
    "dct = {'roll':0.5,'pitch':0.5,'yaw':0.5,\n",
    "       'tx':2,'ty':1,'tz':0,\n",
    "       'f':0.1,'ku':5,'kv':2,'u0':0.1,'v0':0.2}\n",
    "checkProcessP2KRT(dct)"
   ]
  },
  {
   "cell_type": "code",
   "execution_count": 30,
   "metadata": {},
   "outputs": [
    {
     "name": "stdout",
     "output_type": "stream",
     "text": [
      "[[ 0.61237244  0.28033009  0.73919892  2.        ]\n",
      " [ 0.35355339  0.73919892 -0.5732233   1.        ]\n",
      " [-0.70710678  0.61237244  0.35355339  0.        ]]\n",
      "original K\n",
      "[[0.5 0.  0.1]\n",
      " [0.  0.2 0.2]\n",
      " [0.  0.  1. ]]\n",
      "new K\n",
      "[[0.5 0.  0.1]\n",
      " [0.  0.2 0.2]\n",
      " [0.  0.  1. ]]\n",
      "rot\n",
      "[[ 0.61237244  0.28033009  0.73919892]\n",
      " [ 0.35355339  0.73919892 -0.5732233 ]\n",
      " [-0.70710678  0.61237244  0.35355339]]\n",
      "trl\n",
      "[[2.]\n",
      " [1.]\n",
      " [0.]]\n"
     ]
    }
   ],
   "source": [
    "dct = {'roll':60,'pitch':45,'yaw':30,\n",
    "       'tx':2,'ty':1,'tz':0,\n",
    "       'f':0.1,'ku':5,'kv':2,'u0':0.1,'v0':0.2}\n",
    "checkProcessP2KRT(dct)"
   ]
  },
  {
   "cell_type": "code",
   "execution_count": 31,
   "metadata": {},
   "outputs": [
    {
     "name": "stdout",
     "output_type": "stream",
     "text": [
      "[[ 0.24184476  0.67929002 -0.6928753   2.        ]\n",
      " [-0.66446302 -0.40443179 -0.62842964  1.        ]\n",
      " [-0.70710678  0.61237244  0.35355339  0.        ]]\n",
      "original K\n",
      "[[0.5 0.  0.1]\n",
      " [0.  0.2 0.2]\n",
      " [0.  0.  1. ]]\n",
      "new K\n",
      "[[0.5 0.  0.1]\n",
      " [0.  0.2 0.2]\n",
      " [0.  0.  1. ]]\n",
      "rot\n",
      "[[ 0.24184476  0.67929002 -0.6928753 ]\n",
      " [-0.66446302 -0.40443179 -0.62842964]\n",
      " [-0.70710678  0.61237244  0.35355339]]\n",
      "trl\n",
      "[[2.]\n",
      " [1.]\n",
      " [0.]]\n"
     ]
    }
   ],
   "source": [
    "dct = {'roll':60,'pitch':45,'yaw':290,\n",
    "       'tx':2,'ty':1,'tz':0,\n",
    "       'f':0.1,'ku':5,'kv':2,'u0':0.1,'v0':0.2}\n",
    "checkProcessP2KRT(dct)"
   ]
  },
  {
   "cell_type": "code",
   "execution_count": 32,
   "metadata": {},
   "outputs": [
    {
     "name": "stdout",
     "output_type": "stream",
     "text": [
      "[[-1.44543958e-01  9.39692621e-01 -3.09975519e-01  2.00000000e+00]\n",
      " [ 3.97131262e-01  3.42020143e-01  8.51650740e-01  1.00000000e+00]\n",
      " [ 9.06307787e-01  1.03511620e-16 -4.22618262e-01  0.00000000e+00]]\n",
      "original K\n",
      "[[0.5 0.  0.1]\n",
      " [0.  0.2 0.2]\n",
      " [0.  0.  1. ]]\n",
      "new K\n",
      "[[0.5 0.  0.1]\n",
      " [0.  0.2 0.2]\n",
      " [0.  0.  1. ]]\n",
      "rot\n",
      "[[-0.14454396  0.93969262 -0.30997552]\n",
      " [ 0.39713126  0.34202014  0.85165074]\n",
      " [ 0.90630779  0.         -0.42261826]]\n",
      "trl\n",
      "[[2.]\n",
      " [1.]\n",
      " [0.]]\n"
     ]
    }
   ],
   "source": [
    "dct = {'roll':360,'pitch':245,'yaw':290,\n",
    "       'tx':2,'ty':1,'tz':0,\n",
    "       'f':0.1,'ku':5,'kv':2,'u0':0.1,'v0':0.2}\n",
    "checkProcessP2KRT(dct)"
   ]
  },
  {
   "cell_type": "code",
   "execution_count": null,
   "metadata": {},
   "outputs": [],
   "source": []
  }
 ],
 "metadata": {
  "kernelspec": {
   "display_name": "Python 3",
   "language": "python",
   "name": "python3"
  },
  "language_info": {
   "codemirror_mode": {
    "name": "ipython",
    "version": 3
   },
   "file_extension": ".py",
   "mimetype": "text/x-python",
   "name": "python",
   "nbconvert_exporter": "python",
   "pygments_lexer": "ipython3",
   "version": "3.7.4"
  }
 },
 "nbformat": 4,
 "nbformat_minor": 2
}
