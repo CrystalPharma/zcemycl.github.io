{
 "cells": [
  {
   "cell_type": "code",
   "execution_count": 1,
   "metadata": {},
   "outputs": [],
   "source": [
    "from bs4 import BeautifulSoup\n",
    "import json\n",
    "import requests\n",
    "import mwparserfromhell\n",
    "import urllib\n",
    "import urllib.request as req\n",
    "user_agent = 'Mozilla/5.0 (Macintosh; Intel Mac OS X 10.15; rv:78.0) Gecko/20100101 Firefox/78.0'\n",
    "headers = {'User-Agent':user_agent}"
   ]
  },
  {
   "cell_type": "markdown",
   "metadata": {},
   "source": [
    "```\n",
    "page = requests.get(URL)\n",
    "soup = BeautifulSoup(page.content, \"html.parser\") \n",
    "## method 1\n",
    "results = soup.find(id=\"ResultsContainer\")\n",
    "print(results.prettify())\n",
    "## method 2\n",
    "job_elements = results.find_all(\"div\", class_=\"card-content\")\n",
    "## method 3\n",
    "for job_element in job_elements:\n",
    "    title_element = job_element.find(\"h2\", class_=\"title\")\n",
    "```"
   ]
  },
  {
   "cell_type": "code",
   "execution_count": 5,
   "metadata": {
    "scrolled": false
   },
   "outputs": [
    {
     "name": "stdout",
     "output_type": "stream",
     "text": [
      "Yui+Chun+Leung\n",
      "https://duckduckgo.com/html/?q=Yui+Chun+Leung\n",
      "-----Search result 0-----\n",
      "https://uk.linkedin.com/in/yui-chun-leung-48524b134\n",
      "Yui Chun Leung - Machine Learning Engineer - RE5Q | LinkedIn\n",
      "https://uk.linkedin.com/in/yui-chun-leung-48524b134\n",
      "Liked by Yui Chun Leung A small tool to track tennis players and the ball and project the players' coordinates on a bird eye view. Potentially useful for extracting… Liked by Yui Chun Leung\n",
      "==========================\n",
      "-----Search result 1-----\n",
      "https://github.com/zcemycl\n",
      "zcemycl (Yui Chun Leung) · GitHub\n",
      "https://github.com/zcemycl\n",
      "zcemycl.github.io. Practise web development, record my ideas, works and studies. Check out my website https://zcemycl.github.io/ , featuring more than 150 step-by-step technical tutorials !! HTML.\n",
      "==========================\n",
      "-----Search result 2-----\n",
      "https://www.mathworks.com/matlabcentral/profile/authors/7025586\n",
      "Yui Chun Leung - MATLAB Central\n",
      "https://www.mathworks.com/matlabcentral/profile/authors/7025586\n",
      "Awarded to Yui Chun Leung on 04 Apr 2020. × . First Submission File Exchange. Publish your first submission. Awarded to Yui Chun Leung on 04 Apr 2020. ×. GitHub Submissions Level 1 File Exchange. Have 1 submission connected to GitHub. Awarded to Yui Chun Leung on 04 Apr 2020. View details... Contributions; Badges; × MATLAB Answers. RANK 7,693. REPUTATION 4. CONTRIBUTIONS 0 Questions 2 ...\n",
      "==========================\n",
      "-----Search result 3-----\n",
      "https://hk.linkedin.com/in/chun-yui-leung-552875139\n",
      "Chun Yui Leung - Hong Kong SAR | Professional Profile ...\n",
      "https://hk.linkedin.com/in/chun-yui-leung-552875139\n",
      "Yui Chun Leung Machine Learning Engineer at RE5Q London. 4 others named Chun Yui Leung are on LinkedIn See others named Chun Yui Leung. Chun Yui's public profile badge Include this LinkedIn profile on other websites. Chun Yui Leung 曾就讀University of Sussex ...\n",
      "==========================\n",
      "-----Search result 4-----\n",
      "https://www.linkedin.com/pub/dir/yui/leung\n",
      "40+ \"Yui Leung\" profiles | LinkedIn\n",
      "https://www.linkedin.com/pub/dir/yui/leung\n",
      "View the profiles of professionals named \"Yui Leung\" on LinkedIn. There are 40+ professionals named \"Yui Leung\", who use LinkedIn to exchange information, ideas, and opportunities.\n",
      "==========================\n",
      "-----Search result 5-----\n",
      "https://www.linkedin.com/pub/dir/chun/leung\n",
      "300+ \"Chun Leung\" profiles | LinkedIn\n",
      "https://www.linkedin.com/pub/dir/chun/leung\n",
      "Yui Chun Leung MPhil Machine Learning Student. Greater Cambridge Area. MathWorks, +3 more. University of Cambridge, +1 more. Chun Kit Jason Leung. Chun Kit Jason Leung RecruitFirst Hong Kong ...\n",
      "==========================\n",
      "-----Search result 6-----\n",
      "https://papers.ssrn.com/sol3/papers.cfm?abstract_id=406101\n",
      "Tom: Why Isn't Price Enough? by Charles Ka Yui Leung, Chun ...\n",
      "https://papers.ssrn.com/sol3/papers.cfm?abstract_id=406101\n",
      "Charles Ka Yui Leung. The Chinese University of Hong Kong (CUHK) - Department of Economics. Chun Fai Youngman Leong. The Chinese University of Hong Kong. Ida Yin Sze Chan. The Chinese University of Hong Kong . Abstract. In an efficient market, differences in quality should be fully reflected in differences in prices. This paper examines a highly active residential property market and verifies ...\n",
      "==========================\n",
      "-----Search result 7-----\n",
      "https://www.hkba.org/barrister/cheung-yiu-leung\n",
      "Cheung, Yiu-Leung | Hong Kong Bar Association\n",
      "https://www.hkba.org/barrister/cheung-yiu-leung\n",
      "#Year of call to the Bar in England and Wales or the Bar in Northern lreland,or year of admission as an advocate in Scotland, is abbreviated in this Bar List as \"UK(year)\".\n",
      "==========================\n",
      "-----Search result 8-----\n",
      "https://hk.linkedin.com/in/yui-leung-5973871a\n",
      "Yui Leung - Director's Assistant - Excel Steel Limited ...\n",
      "https://hk.linkedin.com/in/yui-leung-5973871a\n",
      "Yui Leung Director's Assistant at Excel Steel Limited Hong Kong SAR 2 connections. Join to Connect Excel Steel Limited. Report this profile Experience Director's Assistant Excel Steel Limited Jan 2008 - Present 13 years 6 months. Excel Steel Ltd is a joint venture company formed by GME group and Largely Company Ltd. ...\n",
      "==========================\n",
      "-----Search result 9-----\n",
      "https://www.econ.cuhk.edu.hk/econ/en-gb/research/students-publications-best-theses-papers\n",
      "Department of Economics, The Chinese University of Hong ...\n",
      "https://www.econ.cuhk.edu.hk/econ/en-gb/research/students-publications-best-theses-papers\n",
      "Chun Fung Tse, Yuk Yan Wong and Chun Fai Yip, \"The Essay on the Airport Planning and Management\", supervised by Dr. Michael Leung. Wing Yui Chan, Pui Kwan Ng and Sing Tse, \"The Ageing Population and its Impact on the Economy and Society in Hong Kong\", supervised by Prof. Yun Wing Sung. 2012-2013: Tsz Yu Chan, \"Transboundary Pollution\".\n",
      "==========================\n",
      "-----Search result 10-----\n",
      "https://www.mathworks.com/matlabcentral/fileexchange/74865-matlab-gan/\n",
      "Matlab-GAN - File Exchange - MATLAB Central\n",
      "https://www.mathworks.com/matlabcentral/fileexchange/74865-matlab-gan/\n",
      "Matlab-GAN. Collection of MATLAB implementations of Generative Adversarial Networks (GANs) suggested in research papers. It includes GAN, conditional-GAN, info-GAN, Adversarial AutoEncoder, Pix2Pix, CycleGAN and more, and the models are applied to different datasets such as MNIST, celebA and Facade.\n",
      "==========================\n"
     ]
    }
   ],
   "source": [
    "keyword = urllib.parse.quote_plus('Yui Chun Leung')\n",
    "print(keyword)\n",
    "duckForm = 'https://duckduckgo.com/html/?q='+keyword\n",
    "print(duckForm)\n",
    "r = requests.get(duckForm,headers=headers)\n",
    "# print(r,r.text)\n",
    "soup1 = BeautifulSoup(r.text,'html.parser')\n",
    "soup2 = BeautifulSoup(r.text,'lxml')\n",
    "results = soup1.find_all('a', attrs={'class':'result__a'}, href=True)\n",
    "results2 = soup2.find_all('a',attrs={'class':'result__snippet'},href=True)\n",
    "\n",
    "for i,link in enumerate(zip(results,results2)):\n",
    "    print(\"-----Search result {}-----\".format(i))\n",
    "    print(link[0]['href'])\n",
    "    print(link[0].text)\n",
    "    print(link[1]['href'])\n",
    "    print(link[1].text)\n",
    "    print(\"==========================\")\n",
    "    \n",
    "    if i == 10:\n",
    "        break"
   ]
  },
  {
   "cell_type": "code",
   "execution_count": null,
   "metadata": {},
   "outputs": [],
   "source": []
  }
 ],
 "metadata": {
  "kernelspec": {
   "display_name": "Python 3",
   "language": "python",
   "name": "python3"
  },
  "language_info": {
   "codemirror_mode": {
    "name": "ipython",
    "version": 3
   },
   "file_extension": ".py",
   "mimetype": "text/x-python",
   "name": "python",
   "nbconvert_exporter": "python",
   "pygments_lexer": "ipython3",
   "version": "3.7.4"
  }
 },
 "nbformat": 4,
 "nbformat_minor": 2
}
