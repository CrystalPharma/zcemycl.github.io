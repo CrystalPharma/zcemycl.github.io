{
 "cells": [
  {
   "cell_type": "code",
   "execution_count": 1,
   "metadata": {},
   "outputs": [],
   "source": [
    "import numpy as np\n",
    "import random\n",
    "import matplotlib.pyplot as plt"
   ]
  },
  {
   "cell_type": "code",
   "execution_count": 2,
   "metadata": {},
   "outputs": [
    {
     "name": "stdout",
     "output_type": "stream",
     "text": [
      "[[ 0.37218182]\n",
      " [-1.13625478]\n",
      " [-1.20318389]\n",
      " [ 0.82393655]\n",
      " [ 0.42881884]\n",
      " [-1.57870048]\n",
      " [-0.19468226]\n",
      " [ 3.96683717]\n",
      " [-0.51853812]\n",
      " [-1.27021732]]\n"
     ]
    }
   ],
   "source": [
    "trueQa = np.random.randn(10,1)\n",
    "print(trueQa)"
   ]
  },
  {
   "cell_type": "code",
   "execution_count": 3,
   "metadata": {},
   "outputs": [
    {
     "data": {
      "text/plain": [
       "7"
      ]
     },
     "execution_count": 3,
     "metadata": {},
     "output_type": "execute_result"
    }
   ],
   "source": [
    "np.argmax(trueQa)"
   ]
  },
  {
   "cell_type": "code",
   "execution_count": 4,
   "metadata": {},
   "outputs": [],
   "source": [
    "def nArmBandit(qa,ep,T=10000):\n",
    "    allq = 5*np.ones((10,1))\n",
    "    alln = np.zeros((10,1))\n",
    "    sumr = 0\n",
    "    pltavgr = [0]\n",
    "    for i in range(1,T):\n",
    "        greedy = (np.random.rand(1)<=1-ep)\n",
    "        if greedy:\n",
    "            if sum(allq==np.max(allq))>1:\n",
    "                a = np.random.choice(np.where(allq==np.max(allq))[0])\n",
    "            else:\n",
    "                a = np.argmax(allq)\n",
    "        else:\n",
    "            a = np.random.choice(10)\n",
    "        alln[a] += 1\n",
    "        r = trueQa[a]+np.random.randn(1)\n",
    "        allq[a] += r/alln[a]\n",
    "        sumr += r\n",
    "        pltavgr.append(sumr/i)\n",
    "    return pltavgr,allq"
   ]
  },
  {
   "cell_type": "code",
   "execution_count": 5,
   "metadata": {},
   "outputs": [],
   "source": [
    "sample1,qa1 = nArmBandit(trueQa,0)\n",
    "sample2,qa2 = nArmBandit(trueQa,0.01)\n",
    "sample3,qa3 = nArmBandit(trueQa,0.1)"
   ]
  },
  {
   "cell_type": "code",
   "execution_count": 6,
   "metadata": {},
   "outputs": [
    {
     "data": {
      "text/plain": [
       "Text(0, 0.5, 'average rewards')"
      ]
     },
     "execution_count": 6,
     "metadata": {},
     "output_type": "execute_result"
    },
    {
     "data": {
      "image/png": "[encoded data removed]",
      "text/plain": [
       "<Figure size 432x288 with 1 Axes>"
      ]
     },
     "metadata": {
      "needs_background": "light"
     },
     "output_type": "display_data"
    }
   ],
   "source": [
    "plt.plot(sample1)\n",
    "plt.plot(sample2)\n",
    "plt.plot(sample3)\n",
    "plt.legend(['0','0.01','0.1'])\n",
    "plt.xlabel('epochs')\n",
    "plt.ylabel('average rewards')"
   ]
  },
  {
   "cell_type": "code",
   "execution_count": 7,
   "metadata": {},
   "outputs": [
    {
     "name": "stdout",
     "output_type": "stream",
     "text": [
      "0 7 7\n"
     ]
    }
   ],
   "source": [
    "print(np.argmax(qa1),np.argmax(qa2),np.argmax(qa3))"
   ]
  },
  {
   "cell_type": "code",
   "execution_count": null,
   "metadata": {},
   "outputs": [],
   "source": []
  }
 ],
 "metadata": {
  "kernelspec": {
   "display_name": "Python 3",
   "language": "python",
   "name": "python3"
  },
  "language_info": {
   "codemirror_mode": {
    "name": "ipython",
    "version": 3
   },
   "file_extension": ".py",
   "mimetype": "text/x-python",
   "name": "python",
   "nbconvert_exporter": "python",
   "pygments_lexer": "ipython3",
   "version": "3.7.4"
  }
 },
 "nbformat": 4,
 "nbformat_minor": 2
}
