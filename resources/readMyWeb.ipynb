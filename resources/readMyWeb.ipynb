{
 "cells": [
  {
   "cell_type": "code",
   "execution_count": 1,
   "metadata": {},
   "outputs": [],
   "source": [
    "import time\n",
    "import selenium\n",
    "from selenium import webdriver\n",
    "from selenium.webdriver.common.by import By\n",
    "from selenium.webdriver.support.ui import WebDriverWait\n",
    "from selenium.webdriver.support import expected_conditions as EC\n",
    "from selenium.webdriver.common.action_chains import ActionChains\n",
    "from selenium.webdriver.common.keys import Keys\n",
    "from webdriver_manager.chrome import ChromeDriverManager"
   ]
  },
  {
   "cell_type": "code",
   "execution_count": 2,
   "metadata": {},
   "outputs": [
    {
     "name": "stderr",
     "output_type": "stream",
     "text": [
      "\n",
      "\n",
      "====== WebDriver manager ======\n",
      "Current google-chrome version is 90.0.4430\n",
      "Get LATEST driver version for 90.0.4430\n",
      "Driver [/home/yui/.wdm/drivers/chromedriver/linux64/90.0.4430.24/chromedriver] found in cache\n"
     ]
    }
   ],
   "source": [
    "driver = webdriver.Chrome(ChromeDriverManager().install())\n",
    "wait = WebDriverWait(driver, 10)\n",
    "actions = ActionChains(driver)\n",
    "driver.get('https://zcemycl.github.io')"
   ]
  },
  {
   "cell_type": "code",
   "execution_count": 3,
   "metadata": {},
   "outputs": [],
   "source": [
    "driver.maximize_window()"
   ]
  },
  {
   "cell_type": "code",
   "execution_count": 4,
   "metadata": {},
   "outputs": [
    {
     "name": "stdout",
     "output_type": "stream",
     "text": [
      "https://zcemycl.github.io/main.html\n"
     ]
    }
   ],
   "source": [
    "iframe = driver.find_element_by_class_name('iframecontent')\n",
    "# print(dir(iframe))\n",
    "src = iframe.get_attribute(\"src\")\n",
    "print(src)\n",
    "driver.get(src)\n",
    "giticon = driver.find_element_by_class_name('fa-github')\n",
    "giticon.click()"
   ]
  },
  {
   "cell_type": "code",
   "execution_count": 5,
   "metadata": {},
   "outputs": [],
   "source": [
    "driver.switch_to.window(driver.window_handles[0])\n",
    "driver.execute_script(\"window.history.go(-1)\")"
   ]
  },
  {
   "cell_type": "code",
   "execution_count": 6,
   "metadata": {
    "scrolled": true
   },
   "outputs": [
    {
     "name": "stdout",
     "output_type": "stream",
     "text": [
      "https://zcemycl.github.io/templates/techX/mlagentTrain.html\n"
     ]
    }
   ],
   "source": [
    "elems = driver.find_elements_by_xpath(\"//a[@href]\")\n",
    "for i,elem in enumerate(elems):\n",
    "    if 'https://' in elem.get_attribute(\"href\"):        \n",
    "        elem.click()\n",
    "    if i == 10:\n",
    "        print(elem.get_attribute(\"href\"))\n",
    "        driver.get(elem.get_attribute(\"href\"))\n",
    "        break\n",
    "    time.sleep(0.5)"
   ]
  },
  {
   "cell_type": "code",
   "execution_count": 7,
   "metadata": {},
   "outputs": [
    {
     "name": "stdout",
     "output_type": "stream",
     "text": [
      "Install ml-agents package for python. pip install mlagents==0.16.0\n",
      "You should also install TensorFlow.\n",
      "In your ml-agents clone repositry, make sure the config yaml file exists.\n",
      "Make sure your scene is opened in the Unity Hub.\n",
      "Run the command with the target config file and id name. mlagents-learn /media/yui/Disk/doc/ml-agents-release_2/config/trainer_config.yaml --run-id 3dball_01\n",
      "Click the play button. The training will start.\n",
      "Click the play button again to stop. It will save the model as .nn extension.\n",
      "To adjust the play speed (simulation speed). You can click tab Edit, click Project Settings, Time and Time Scale.\n",
      "To apply the new brain to the agent, drag .nn model to TFModels, click the 3d object rightarrow, press Agent, drag model to Model in Behavior Parameters.\n"
     ]
    }
   ],
   "source": [
    "lists = driver.find_elements_by_tag_name('li')\n",
    "for item in lists:\n",
    "    print(item.text)"
   ]
  },
  {
   "cell_type": "code",
   "execution_count": 8,
   "metadata": {},
   "outputs": [],
   "source": [
    "driver.close()"
   ]
  },
  {
   "cell_type": "code",
   "execution_count": null,
   "metadata": {},
   "outputs": [],
   "source": []
  }
 ],
 "metadata": {
  "kernelspec": {
   "display_name": "Python 3",
   "language": "python",
   "name": "python3"
  },
  "language_info": {
   "codemirror_mode": {
    "name": "ipython",
    "version": 3
   },
   "file_extension": ".py",
   "mimetype": "text/x-python",
   "name": "python",
   "nbconvert_exporter": "python",
   "pygments_lexer": "ipython3",
   "version": "3.7.4"
  }
 },
 "nbformat": 4,
 "nbformat_minor": 2
}
