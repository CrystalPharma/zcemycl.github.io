{
 "cells": [
  {
   "cell_type": "code",
   "execution_count": 1,
   "metadata": {},
   "outputs": [],
   "source": [
    "import numpy as np\n",
    "import math"
   ]
  },
  {
   "cell_type": "code",
   "execution_count": 31,
   "metadata": {},
   "outputs": [
    {
     "name": "stdout",
     "output_type": "stream",
     "text": [
      "(\n",
      "stack:  ['(']\n",
      "[\n",
      "stack:  ['(', '[']\n",
      ")\n",
      "stack:  ['[']\n",
      "]\n",
      "stack:  []\n"
     ]
    },
    {
     "data": {
      "text/plain": [
       "True"
      ]
     },
     "execution_count": 31,
     "metadata": {},
     "output_type": "execute_result"
    }
   ],
   "source": [
    "def isBalance(expression=None):\n",
    "    opensyms = [\"(\",\"[\",\"{\"]\n",
    "    closesyms = [\")\",\"]\",\"}\"]\n",
    "#     expression = \"({})\"\n",
    "    \n",
    "    isBalanced = False\n",
    "    stack = []\n",
    "    for i in expression:\n",
    "        print(i)\n",
    "        if i in opensyms:\n",
    "            stack.append(i)\n",
    "        elif i in closesyms:\n",
    "            idx = closesyms.index(i)            \n",
    "            try:\n",
    "                stack.pop(stack.index(opensyms[idx]))\n",
    "            except:\n",
    "                return isBalanced\n",
    "        print(\"stack: \",stack)\n",
    "    if len(stack) == 0:\n",
    "        isBalanced = True\n",
    "    return isBalanced\n",
    "isBalance(\"([)]\")"
   ]
  },
  {
   "cell_type": "code",
   "execution_count": 30,
   "metadata": {},
   "outputs": [
    {
     "name": "stdout",
     "output_type": "stream",
     "text": [
      "[\n",
      "stack:  ['[']\n",
      "(\n",
      "stack:  ['[', '(']\n",
      "]\n",
      "stack:  ['(']\n"
     ]
    },
    {
     "data": {
      "text/plain": [
       "False"
      ]
     },
     "execution_count": 30,
     "metadata": {},
     "output_type": "execute_result"
    }
   ],
   "source": [
    "isBalance('[(]')"
   ]
  },
  {
   "cell_type": "code",
   "execution_count": 32,
   "metadata": {},
   "outputs": [
    {
     "name": "stdout",
     "output_type": "stream",
     "text": [
      "}\n"
     ]
    },
    {
     "data": {
      "text/plain": [
       "False"
      ]
     },
     "execution_count": 32,
     "metadata": {},
     "output_type": "execute_result"
    }
   ],
   "source": [
    "isBalance('}{}')"
   ]
  },
  {
   "cell_type": "code",
   "execution_count": 33,
   "metadata": {},
   "outputs": [
    {
     "name": "stdout",
     "output_type": "stream",
     "text": [
      "(\n",
      "stack:  ['(']\n",
      "[\n",
      "stack:  ['(', '[']\n",
      "]\n",
      "stack:  ['(']\n",
      ")\n",
      "stack:  []\n",
      "{\n",
      "stack:  ['{']\n",
      "{\n",
      "stack:  ['{', '{']\n",
      "[\n",
      "stack:  ['{', '{', '[']\n",
      "(\n",
      "stack:  ['{', '{', '[', '(']\n",
      "]\n",
      "stack:  ['{', '{', '(']\n",
      "}\n",
      "stack:  ['{', '(']\n",
      "}\n",
      "stack:  ['(']\n",
      ")\n",
      "stack:  []\n"
     ]
    },
    {
     "data": {
      "text/plain": [
       "True"
      ]
     },
     "execution_count": 33,
     "metadata": {},
     "output_type": "execute_result"
    }
   ],
   "source": [
    "isBalance(\"([]){{[(]}})\")"
   ]
  },
  {
   "cell_type": "code",
   "execution_count": null,
   "metadata": {},
   "outputs": [],
   "source": []
  }
 ],
 "metadata": {
  "kernelspec": {
   "display_name": "Python 3",
   "language": "python",
   "name": "python3"
  },
  "language_info": {
   "codemirror_mode": {
    "name": "ipython",
    "version": 3
   },
   "file_extension": ".py",
   "mimetype": "text/x-python",
   "name": "python",
   "nbconvert_exporter": "python",
   "pygments_lexer": "ipython3",
   "version": "3.7.4"
  }
 },
 "nbformat": 4,
 "nbformat_minor": 2
}
