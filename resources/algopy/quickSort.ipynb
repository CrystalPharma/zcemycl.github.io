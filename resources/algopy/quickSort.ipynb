{
 "cells": [
  {
   "cell_type": "code",
   "execution_count": 1,
   "metadata": {},
   "outputs": [],
   "source": [
    "import numpy as np\n",
    "import math"
   ]
  },
  {
   "cell_type": "code",
   "execution_count": 11,
   "metadata": {},
   "outputs": [],
   "source": [
    "target = [1,24,8,3,7,6]"
   ]
  },
  {
   "cell_type": "code",
   "execution_count": 12,
   "metadata": {},
   "outputs": [],
   "source": [
    "def partition(arr,low,high): \n",
    "    i = ( low-1 )         # index of smaller element \n",
    "    pivot = arr[high]     # pivot \n",
    "  \n",
    "    for j in range(low , high): \n",
    "        print(arr,i,j)\n",
    "        # If current element is smaller than the pivot \n",
    "        if arr[j] < pivot: \n",
    "          \n",
    "            # increment index of smaller element \n",
    "            i = i+1 \n",
    "            arr[i],arr[j] = arr[j],arr[i] \n",
    "        \n",
    "    arr[i+1],arr[high] = arr[high],arr[i+1] \n",
    "    return arr,i+1 \n"
   ]
  },
  {
   "cell_type": "code",
   "execution_count": 13,
   "metadata": {},
   "outputs": [
    {
     "name": "stdout",
     "output_type": "stream",
     "text": [
      "[1, 24, 8, 3, 7, 6] -1 0\n",
      "[1, 24, 8, 3, 7, 6] 0 1\n",
      "[1, 24, 8, 3, 7, 6] 0 2\n",
      "[1, 24, 8, 3, 7, 6] 0 3\n",
      "[1, 3, 8, 24, 7, 6] 1 4\n"
     ]
    },
    {
     "data": {
      "text/plain": [
       "([1, 3, 6, 24, 7, 8], 2)"
      ]
     },
     "execution_count": 13,
     "metadata": {},
     "output_type": "execute_result"
    }
   ],
   "source": [
    "partition(target,0,len(target)-1)"
   ]
  },
  {
   "cell_type": "code",
   "execution_count": 16,
   "metadata": {},
   "outputs": [],
   "source": [
    "def quickSort(arr,start=0,end=None):\n",
    "    if end is None:\n",
    "        end = len(arr)-1\n",
    "    if start >= end:\n",
    "        return arr\n",
    "    if start < end:\n",
    "        arr,idx = partition(arr,start,end)\n",
    "        quickSort(arr,start,idx-1)\n",
    "        quickSort(arr,idx+1,end)"
   ]
  },
  {
   "cell_type": "code",
   "execution_count": 17,
   "metadata": {},
   "outputs": [
    {
     "name": "stdout",
     "output_type": "stream",
     "text": [
      "[1, 3, 6, 24, 7, 8] -1 0\n",
      "[1, 3, 6, 24, 7, 8] 0 1\n",
      "[1, 3, 6, 24, 7, 8] 1 2\n",
      "[1, 3, 6, 24, 7, 8] 2 3\n",
      "[1, 3, 6, 24, 7, 8] 2 4\n",
      "[1, 3, 6, 7, 8, 24] -1 0\n",
      "[1, 3, 6, 7, 8, 24] 0 1\n",
      "[1, 3, 6, 7, 8, 24] 1 2\n",
      "[1, 3, 6, 7, 8, 24] -1 0\n",
      "[1, 3, 6, 7, 8, 24] 0 1\n",
      "[1, 3, 6, 7, 8, 24] -1 0\n"
     ]
    }
   ],
   "source": [
    "quickSort(target,0,len(target)-1)"
   ]
  },
  {
   "cell_type": "code",
   "execution_count": null,
   "metadata": {},
   "outputs": [],
   "source": []
  }
 ],
 "metadata": {
  "kernelspec": {
   "display_name": "Python 3",
   "language": "python",
   "name": "python3"
  },
  "language_info": {
   "codemirror_mode": {
    "name": "ipython",
    "version": 3
   },
   "file_extension": ".py",
   "mimetype": "text/x-python",
   "name": "python",
   "nbconvert_exporter": "python",
   "pygments_lexer": "ipython3",
   "version": "3.7.4"
  }
 },
 "nbformat": 4,
 "nbformat_minor": 2
}
