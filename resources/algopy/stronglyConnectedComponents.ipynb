{
 "cells": [
  {
   "cell_type": "code",
   "execution_count": 1,
   "metadata": {},
   "outputs": [],
   "source": [
    "import numpy as np\n",
    "import math\n",
    "import networkx as nx\n",
    "from nxpd import draw\n",
    "import matplotlib.pyplot as plt"
   ]
  },
  {
   "cell_type": "markdown",
   "metadata": {},
   "source": []
  },
  {
   "cell_type": "code",
   "execution_count": 21,
   "metadata": {},
   "outputs": [
    {
     "data": {
      "image/png": "[encoded data removed]",
      "text/plain": [
       "<Figure size 432x288 with 1 Axes>"
      ]
     },
     "metadata": {},
     "output_type": "display_data"
    }
   ],
   "source": [
    "G = nx.DiGraph()\n",
    "G.graph['dpi'] = 0\n",
    "G.graph['rankdir']='LR'\n",
    "G.add_node('a',pos=(0,1))\n",
    "G.add_node('b',pos=(1,0))\n",
    "G.add_node('c',pos=(2,1))\n",
    "G.add_node('d',pos=(4,0))\n",
    "G.add_node('e',pos=(5,1))\n",
    "G.add_node('f',pos=(6,0))\n",
    "G.add_node('g',pos=(7,0))\n",
    "G.add_node('h',pos=(7,1))\n",
    "G.add_node('j',pos=(8,0))\n",
    "G.add_node('i',pos=(8,1))\n",
    "G.add_node('k',pos=(9,0))\n",
    "G.add_edges_from([('a','b'),('b','c'),('c','a'),\n",
    "                 ('b','d'),('d','e'),('e','f'),('f','d'),\n",
    "                 ('g','f'),('g','h'),('h','i'),('i','j'),\n",
    "                 ('j','g'),('j','k'),])\n",
    "pos=nx.get_node_attributes(G,'pos')\n",
    "nx.draw(G,pos,node_color=['white'],\n",
    "        with_labels=True,linewidths=2)\n",
    "ax = plt.gca() # to get the current axis\n",
    "ax.collections[0].set_edgecolor(\"black\") \n",
    "plt.axis(\"off\")\n",
    "plt.ylim([-.5,1.5])\n",
    "plt.show()"
   ]
  },
  {
   "cell_type": "code",
   "execution_count": null,
   "metadata": {},
   "outputs": [],
   "source": []
  }
 ],
 "metadata": {
  "kernelspec": {
   "display_name": "Python 3",
   "language": "python",
   "name": "python3"
  },
  "language_info": {
   "codemirror_mode": {
    "name": "ipython",
    "version": 3
   },
   "file_extension": ".py",
   "mimetype": "text/x-python",
   "name": "python",
   "nbconvert_exporter": "python",
   "pygments_lexer": "ipython3",
   "version": "3.7.4"
  }
 },
 "nbformat": 4,
 "nbformat_minor": 2
}
