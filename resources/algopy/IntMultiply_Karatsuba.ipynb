{
 "cells": [
  {
   "cell_type": "code",
   "execution_count": 1,
   "metadata": {},
   "outputs": [],
   "source": [
    "import numpy as np\n",
    "import math"
   ]
  },
  {
   "cell_type": "code",
   "execution_count": 2,
   "metadata": {},
   "outputs": [],
   "source": [
    "def primaryMultiply(num1,num2):\n",
    "    num1ls = [int(i) for i in num1]\n",
    "    num2ls = [int(i) for i in num2]\n",
    "    result = np.zeros((len(num1ls)+len(num2ls)))\n",
    "    for i in reversed(range(len(num1))):\n",
    "        for j in reversed(range(len(num2))):\n",
    "            product = num1ls[i]*num2ls[j]\n",
    "            result[i+j+1]+=product%10\n",
    "            result[i+j]+=product//10\n",
    "            result[i+j]+=result[i+j+1]//10\n",
    "            result[i+j+1]%=10\n",
    "    return result"
   ]
  },
  {
   "cell_type": "code",
   "execution_count": 7,
   "metadata": {},
   "outputs": [
    {
     "name": "stdout",
     "output_type": "stream",
     "text": [
      "99980001\n"
     ]
    }
   ],
   "source": [
    "# a = '98929'\n",
    "# b = '5547'\n",
    "a = '9999'; b = '9999'\n",
    "print(int(a)*int(b))"
   ]
  },
  {
   "cell_type": "code",
   "execution_count": 8,
   "metadata": {
    "scrolled": true
   },
   "outputs": [
    {
     "data": {
      "text/plain": [
       "array([9., 9., 9., 8., 0., 0., 0., 1.])"
      ]
     },
     "execution_count": 8,
     "metadata": {},
     "output_type": "execute_result"
    }
   ],
   "source": [
    "primaryMultiply(a,b)"
   ]
  },
  {
   "cell_type": "markdown",
   "metadata": {},
   "source": [
    "### Karatsuba algorithm\n",
    "\\begin{align*}\n",
    "x &= 10^{\\frac{n}{2}}a+b \\quad y = 10^{\\frac{n}{2}}c+d \\\\\n",
    "x\\cdot y&= 10^nac+10^{\\frac{n}{2}}(ad+bc)+bd \\\\\n",
    "&= 10^nac+10^{\\frac{n}{2}}((a+b)(c+d)-ac-bd)+bd\\\\\n",
    "\\end{align*}"
   ]
  },
  {
   "cell_type": "code",
   "execution_count": 9,
   "metadata": {},
   "outputs": [],
   "source": [
    "def karatsuba(num1,num2):\n",
    "    l1,l2 = len(num1),len(num2)\n",
    "    if l1==1 or l2==1:\n",
    "        return str(int(num1)*int(num2))\n",
    "    l = max(l1,l2)\n",
    "    if l<2:\n",
    "        result = str(int(num1)*int(num2))\n",
    "        return result\n",
    "    else:\n",
    "        div = int(np.ceil(l/2))\n",
    "        a,b = num1[:l1-div],num1[l1-div:]\n",
    "        c,d = num2[:l2-div],num2[l2-div:]\n",
    "        step1 = int(karatsuba(a,c))\n",
    "        step2 = int(karatsuba(b,d))\n",
    "        step3 = int(karatsuba(str(int(a)+int(b)),\n",
    "                              str(int(c)+int(d))))\n",
    "        step4 = step3-step2-step1\n",
    "        step5 = step1*10**(2*div)+step2+step4*10**div\n",
    "        return str(step5)"
   ]
  },
  {
   "cell_type": "code",
   "execution_count": 10,
   "metadata": {},
   "outputs": [
    {
     "data": {
      "text/plain": [
       "'99980001'"
      ]
     },
     "execution_count": 10,
     "metadata": {},
     "output_type": "execute_result"
    }
   ],
   "source": [
    "karatsuba(a,b)"
   ]
  },
  {
   "cell_type": "code",
   "execution_count": null,
   "metadata": {},
   "outputs": [],
   "source": []
  }
 ],
 "metadata": {
  "kernelspec": {
   "display_name": "Python 3",
   "language": "python",
   "name": "python3"
  },
  "language_info": {
   "codemirror_mode": {
    "name": "ipython",
    "version": 3
   },
   "file_extension": ".py",
   "mimetype": "text/x-python",
   "name": "python",
   "nbconvert_exporter": "python",
   "pygments_lexer": "ipython3",
   "version": "3.7.4"
  }
 },
 "nbformat": 4,
 "nbformat_minor": 2
}
