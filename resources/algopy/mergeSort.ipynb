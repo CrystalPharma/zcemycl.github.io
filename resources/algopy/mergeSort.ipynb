{
 "cells": [
  {
   "cell_type": "code",
   "execution_count": 2,
   "metadata": {},
   "outputs": [],
   "source": [
    "import numpy as np\n",
    "import os\n",
    "import math"
   ]
  },
  {
   "cell_type": "code",
   "execution_count": 5,
   "metadata": {},
   "outputs": [],
   "source": [
    "def forceSort(result):\n",
    "    sort = False\n",
    "    while not sort:\n",
    "        sort = True\n",
    "        for i in range(len(result)-1):\n",
    "            if result[i]>result[i+1]:\n",
    "                result[i],result[i+1] = result[i+1],result[i]\n",
    "                sort = False\n",
    "                print(result)\n",
    "    return result"
   ]
  },
  {
   "cell_type": "code",
   "execution_count": 19,
   "metadata": {},
   "outputs": [
    {
     "name": "stdout",
     "output_type": "stream",
     "text": [
      "[2, 10, 1, 4, 3, 0]\n",
      "[2, 1, 10, 4, 3, 0]\n",
      "[2, 1, 4, 10, 3, 0]\n",
      "[2, 1, 4, 3, 10, 0]\n",
      "[2, 1, 4, 3, 0, 10]\n",
      "[1, 2, 4, 3, 0, 10]\n",
      "[1, 2, 3, 4, 0, 10]\n",
      "[1, 2, 3, 0, 4, 10]\n",
      "[1, 2, 0, 3, 4, 10]\n",
      "[1, 0, 2, 3, 4, 10]\n",
      "[0, 1, 2, 3, 4, 10]\n"
     ]
    }
   ],
   "source": [
    "a = [10,2,1,4,3,0]\n",
    "result = forceSort(a)"
   ]
  },
  {
   "cell_type": "code",
   "execution_count": 17,
   "metadata": {},
   "outputs": [],
   "source": [
    "def mergeSort(result):\n",
    "    length = len(result)\n",
    "    if length != 1:\n",
    "        rlen = length//2\n",
    "        llen = length-rlen\n",
    "        left = result[:llen]\n",
    "        right= result[llen:]\n",
    "        \n",
    "        if llen==2:\n",
    "            if left[0]>left[1]:\n",
    "                left[0],left[1]=left[1],left[0]\n",
    "        elif llen>2:\n",
    "            left = mergeSort(left)\n",
    "        print('Before: ',left,right)\n",
    "        if rlen==2:\n",
    "            if right[0]>right[1]:\n",
    "                right[0],right[1]=right[1],right[0]\n",
    "        elif rlen>2:\n",
    "            right = mergeSort(right)\n",
    "        print('After: ',left,right)\n",
    "        i,j,k = 0,0,0\n",
    "        r = result.copy()\n",
    "        while i<llen and j<rlen:\n",
    "            if left[i]>=right[j]:\n",
    "                r[k] = right[j]\n",
    "                j+=1\n",
    "            else:\n",
    "                r[k] = left[i]\n",
    "                i+=1\n",
    "            k+=1\n",
    "        \n",
    "        while i<llen:\n",
    "            r[k] = left[i]\n",
    "            i+=1; k+=1\n",
    "        while j<rlen:\n",
    "            r[k] = right[j]\n",
    "            j+=1; k+=1\n",
    "            \n",
    "        result = r\n",
    "        \n",
    "    return result"
   ]
  },
  {
   "cell_type": "code",
   "execution_count": 20,
   "metadata": {},
   "outputs": [
    {
     "name": "stdout",
     "output_type": "stream",
     "text": [
      "Before:  [2, 10] [1]\n",
      "After:  [2, 10] [1]\n",
      "Before:  [1, 2, 10] [4, 3, 0]\n",
      "Before:  [3, 4] [0]\n",
      "After:  [3, 4] [0]\n",
      "After:  [1, 2, 10] [0, 3, 4]\n"
     ]
    },
    {
     "data": {
      "text/plain": [
       "[0, 1, 2, 3, 4, 10]"
      ]
     },
     "execution_count": 20,
     "metadata": {},
     "output_type": "execute_result"
    }
   ],
   "source": [
    "a = [10,2,1,4,3,0]\n",
    "mergeSort(a)"
   ]
  },
  {
   "cell_type": "code",
   "execution_count": null,
   "metadata": {},
   "outputs": [],
   "source": []
  }
 ],
 "metadata": {
  "kernelspec": {
   "display_name": "Python 3",
   "language": "python",
   "name": "python3"
  },
  "language_info": {
   "codemirror_mode": {
    "name": "ipython",
    "version": 3
   },
   "file_extension": ".py",
   "mimetype": "text/x-python",
   "name": "python",
   "nbconvert_exporter": "python",
   "pygments_lexer": "ipython3",
   "version": "3.7.4"
  }
 },
 "nbformat": 4,
 "nbformat_minor": 2
}
