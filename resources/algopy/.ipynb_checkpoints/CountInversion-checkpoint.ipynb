{
 "cells": [
  {
   "cell_type": "code",
   "execution_count": 18,
   "metadata": {},
   "outputs": [],
   "source": [
    "import numpy as np\n",
    "import math\n",
    "import tqdm\n",
    "import time"
   ]
  },
  {
   "cell_type": "code",
   "execution_count": 2,
   "metadata": {},
   "outputs": [],
   "source": [
    "def mergeSort(result):\n",
    "    length = len(result)\n",
    "    if length != 1:\n",
    "        rlen = length//2\n",
    "        llen = length-rlen\n",
    "        left = result[:llen]\n",
    "        right= result[llen:]\n",
    "        \n",
    "        if llen==2:\n",
    "            if left[0]>left[1]:\n",
    "                left[0],left[1]=left[1],left[0]\n",
    "        elif llen>2:\n",
    "            left = mergeSort(left)\n",
    "#         print('Before: ',left,right)\n",
    "        if rlen==2:\n",
    "            if right[0]>right[1]:\n",
    "                right[0],right[1]=right[1],right[0]\n",
    "        elif rlen>2:\n",
    "            right = mergeSort(right)\n",
    "#         print('After: ',left,right)\n",
    "        i,j,k = 0,0,0\n",
    "        r = result.copy()\n",
    "        while i<llen and j<rlen:\n",
    "            if left[i]>=right[j]:\n",
    "                r[k] = right[j]\n",
    "                j+=1\n",
    "            else:\n",
    "                r[k] = left[i]\n",
    "                i+=1\n",
    "            k+=1\n",
    "        \n",
    "        while i<llen:\n",
    "            r[k] = left[i]\n",
    "            i+=1; k+=1\n",
    "        while j<rlen:\n",
    "            r[k] = right[j]\n",
    "            j+=1; k+=1\n",
    "            \n",
    "        result = r\n",
    "        \n",
    "    return result"
   ]
  },
  {
   "cell_type": "code",
   "execution_count": 3,
   "metadata": {},
   "outputs": [
    {
     "data": {
      "text/plain": [
       "[1, 2, 3, 4, 4, 5, 8, 8, 9, 10]"
      ]
     },
     "execution_count": 3,
     "metadata": {},
     "output_type": "execute_result"
    }
   ],
   "source": [
    "mergeSort([4,10,9,8,1,2,4,3,8,5])"
   ]
  },
  {
   "cell_type": "code",
   "execution_count": 4,
   "metadata": {},
   "outputs": [],
   "source": [
    "def forceCount(arr):\n",
    "    count = 0\n",
    "    for i in tqdm.tqdm(range(len(arr)-1)):\n",
    "        for j in range(i+1,len(arr)):\n",
    "            if arr[i]>arr[j]:\n",
    "                count+=1\n",
    "    return count"
   ]
  },
  {
   "cell_type": "code",
   "execution_count": 5,
   "metadata": {},
   "outputs": [
    {
     "name": "stderr",
     "output_type": "stream",
     "text": [
      "100%|██████████| 4/4 [00:00<00:00, 81442.80it/s]\n"
     ]
    },
    {
     "data": {
      "text/plain": [
       "3"
      ]
     },
     "execution_count": 5,
     "metadata": {},
     "output_type": "execute_result"
    }
   ],
   "source": [
    "target = [1,4,2,5,3]\n",
    "forceCount(target)"
   ]
  },
  {
   "cell_type": "code",
   "execution_count": 6,
   "metadata": {},
   "outputs": [
    {
     "name": "stdout",
     "output_type": "stream",
     "text": [
      "100000 14108\n",
      "\n",
      "<class 'str'>\n",
      "100000\n"
     ]
    }
   ],
   "source": [
    "f = open('IntegerArray.txt','r')\n",
    "lines = f.readlines()\n",
    "print(len(lines),lines[1])\n",
    "print(type(lines[1]))\n",
    "arr = [int(line) for line in lines]\n",
    "print(len(arr))"
   ]
  },
  {
   "cell_type": "code",
   "execution_count": 20,
   "metadata": {},
   "outputs": [
    {
     "name": "stderr",
     "output_type": "stream",
     "text": [
      "100%|██████████| 99999/99999 [05:38<00:00, 295.56it/s] "
     ]
    },
    {
     "name": "stdout",
     "output_type": "stream",
     "text": [
      "2407905288\n",
      "Time taken (s):  338.3386797904968\n"
     ]
    },
    {
     "name": "stderr",
     "output_type": "stream",
     "text": [
      "\n"
     ]
    }
   ],
   "source": [
    "# pretty long time\n",
    "start = time.time()\n",
    "print(forceCount(arr))\n",
    "print('Time taken (s): ',time.time()-start)"
   ]
  },
  {
   "cell_type": "code",
   "execution_count": 9,
   "metadata": {},
   "outputs": [],
   "source": [
    "def merge(L=None,R=None):\n",
    "    L_ = mergeSort(L)\n",
    "    R_ = mergeSort(R)\n",
    "    llen = len(L_)\n",
    "    rlen = len(R_)\n",
    "    count = 0\n",
    "    for j in range(rlen):\n",
    "        for i in range(llen):\n",
    "            if R_[j]<L_[i]:\n",
    "                count += len(L_)-i\n",
    "                break\n",
    "    return count"
   ]
  },
  {
   "cell_type": "code",
   "execution_count": 10,
   "metadata": {},
   "outputs": [
    {
     "data": {
      "text/plain": [
       "2"
      ]
     },
     "execution_count": 10,
     "metadata": {},
     "output_type": "execute_result"
    }
   ],
   "source": [
    "merge([2,3,1],[1,3])"
   ]
  },
  {
   "cell_type": "code",
   "execution_count": 11,
   "metadata": {},
   "outputs": [
    {
     "data": {
      "text/plain": [
       "2"
      ]
     },
     "execution_count": 11,
     "metadata": {},
     "output_type": "execute_result"
    }
   ],
   "source": [
    "merge([2,1],[0])"
   ]
  },
  {
   "cell_type": "code",
   "execution_count": 12,
   "metadata": {},
   "outputs": [],
   "source": [
    "def countInv(arr):\n",
    "    length = len(arr)\n",
    "    result = 0\n",
    "    if length == 2:\n",
    "        if arr[0]>arr[1]:\n",
    "            result = 1\n",
    "    elif length > 2:        \n",
    "        rlen = length//2\n",
    "        llen = length-rlen\n",
    "        left,right = arr[:llen],arr[llen:]\n",
    "        result += countInv(left)\n",
    "        result += countInv(right)\n",
    "        result += merge(left,right)\n",
    "    return result"
   ]
  },
  {
   "cell_type": "code",
   "execution_count": 13,
   "metadata": {},
   "outputs": [
    {
     "data": {
      "text/plain": [
       "3"
      ]
     },
     "execution_count": 13,
     "metadata": {},
     "output_type": "execute_result"
    }
   ],
   "source": [
    "target = [1,4,2,5,3]\n",
    "countInv(target)"
   ]
  },
  {
   "cell_type": "code",
   "execution_count": 14,
   "metadata": {},
   "outputs": [
    {
     "data": {
      "text/plain": [
       "3"
      ]
     },
     "execution_count": 14,
     "metadata": {},
     "output_type": "execute_result"
    }
   ],
   "source": [
    "countInv([2,1,0])"
   ]
  },
  {
   "cell_type": "code",
   "execution_count": 17,
   "metadata": {
    "scrolled": true
   },
   "outputs": [
    {
     "name": "stdout",
     "output_type": "stream",
     "text": [
      "[5, 4, 3, 2, 1, 0]\n",
      "15\n"
     ]
    }
   ],
   "source": [
    "target = list(reversed(range(6)))\n",
    "print(target)\n",
    "print(countInv(target))"
   ]
  },
  {
   "cell_type": "code",
   "execution_count": 19,
   "metadata": {},
   "outputs": [
    {
     "name": "stdout",
     "output_type": "stream",
     "text": [
      "2407905288\n",
      "Time taken (s):  144.24272799491882\n"
     ]
    }
   ],
   "source": [
    "start = time.time()\n",
    "print(countInv(arr))\n",
    "print('Time taken (s): ',time.time()-start)"
   ]
  },
  {
   "cell_type": "code",
   "execution_count": null,
   "metadata": {},
   "outputs": [],
   "source": []
  }
 ],
 "metadata": {
  "kernelspec": {
   "display_name": "Python 3",
   "language": "python",
   "name": "python3"
  },
  "language_info": {
   "codemirror_mode": {
    "name": "ipython",
    "version": 3
   },
   "file_extension": ".py",
   "mimetype": "text/x-python",
   "name": "python",
   "nbconvert_exporter": "python",
   "pygments_lexer": "ipython3",
   "version": "3.7.4"
  }
 },
 "nbformat": 4,
 "nbformat_minor": 2
}
